{
 "cells": [
  {
   "cell_type": "markdown",
   "metadata": {},
   "source": [
    "# Working with Weak Lensing Maps"
   ]
  },
  {
   "cell_type": "markdown",
   "metadata": {},
   "source": [
    "##### Spencer Everett, SLAC 2015"
   ]
  },
  {
   "cell_type": "markdown",
   "metadata": {},
   "source": [
    "First import the necessary code modules."
   ]
  },
  {
   "cell_type": "code",
   "execution_count": 1,
   "metadata": {
    "collapsed": true
   },
   "outputs": [],
   "source": [
    "%load_ext autoreload\n",
    "%autoreload 2"
   ]
  },
  {
   "cell_type": "code",
   "execution_count": 2,
   "metadata": {
    "collapsed": false
   },
   "outputs": [],
   "source": [
    "import numpy as np\n",
    "import scipy as sp\n",
    "import os,sys\n",
    "import astropy.io.fits as pyfits\n",
    "\n",
    "import matplotlib\n",
    "matplotlib.use('Agg')\n",
    "import matplotlib.pyplot as plt\n",
    "%matplotlib inline"
   ]
  },
  {
   "cell_type": "code",
   "execution_count": 3,
   "metadata": {
    "collapsed": true
   },
   "outputs": [],
   "source": [
    "import pangloss"
   ]
  },
  {
   "cell_type": "markdown",
   "metadata": {
    "collapsed": true
   },
   "source": [
    "## Convergence maps\n",
    "Let's create a new `Kappamap` object `K` for a test file located in a data directory created in the local clone of the `Pangloss` repository. Note that as it is not a FITS file, the optional parameter is set to `False`."
   ]
  },
  {
   "cell_type": "code",
   "execution_count": 4,
   "metadata": {
    "collapsed": false
   },
   "outputs": [
    {
     "ename": "AttributeError",
     "evalue": "'module' object has no attribute 'demo_data_files'",
     "output_type": "error",
     "traceback": [
      "\u001b[0;31m---------------------------------------------------------------------------\u001b[0m",
      "\u001b[0;31mAttributeError\u001b[0m                            Traceback (most recent call last)",
      "\u001b[0;32m<ipython-input-4-fa7b322c8c5a>\u001b[0m in \u001b[0;36m<module>\u001b[0;34m()\u001b[0m\n\u001b[0;32m----> 1\u001b[0;31m \u001b[0mK\u001b[0m \u001b[0;34m=\u001b[0m \u001b[0mpangloss\u001b[0m\u001b[0;34m.\u001b[0m\u001b[0mKappamap\u001b[0m\u001b[0;34m(\u001b[0m\u001b[0mpangloss\u001b[0m\u001b[0;34m.\u001b[0m\u001b[0mdemo_data_files\u001b[0m\u001b[0;34m[\u001b[0m\u001b[0;34m'kappa_file'\u001b[0m\u001b[0;34m]\u001b[0m\u001b[0;34m,\u001b[0m\u001b[0mFITS\u001b[0m\u001b[0;34m=\u001b[0m\u001b[0mFalse\u001b[0m\u001b[0;34m)\u001b[0m\u001b[0;34m\u001b[0m\u001b[0m\n\u001b[0m",
      "\u001b[0;31mAttributeError\u001b[0m: 'module' object has no attribute 'demo_data_files'"
     ]
    }
   ],
   "source": [
    "K = pangloss.Kappamap(pangloss.KAPPA_FILE,FITS=False)"
   ]
  },
  {
   "cell_type": "markdown",
   "metadata": {
    "collapsed": true
   },
   "source": [
    "`Kappamap` is now a subclass of `WLMap` (weak-lensing map), which contains most of the methods used in the previous version of `Kappamap`. As the file is not a fits file, the following parameters are automatically set:"
   ]
  },
  {
   "cell_type": "markdown",
   "metadata": {},
   "source": [
    "Field Size (self.field): 4 deg x 4 deg  \n",
    "\n",
    "Number of Pixels (self.NX*self.NX): 4096 x 4096\n",
    "\n",
    "Pixel-scale (self.PIXSCALE): 4 deg / 4096 = 0.000977 deg/pix\n",
    "\n",
    "Output (self.output): 'data/GGL_los_8_0_0_N_4096_ang_4_rays_to_plane_37_f.kappa.fits'"
   ]
  },
  {
   "cell_type": "markdown",
   "metadata": {},
   "source": [
    "As part of the constructor, the .kappa file is also converted and saved as a .fits file in the same directory.\n",
    "Convergence values in the kappa-map are obtained using the `at()` method:"
   ]
  },
  {
   "cell_type": "code",
   "execution_count": null,
   "metadata": {
    "collapsed": false
   },
   "outputs": [],
   "source": [
    "print K.at(0,0), K.at(.002,-.001), K.at(np.deg2rad(1), np.deg2rad(-1))"
   ]
  },
  {
   "cell_type": "markdown",
   "metadata": {},
   "source": [
    "Attempting to retrieve convergence values outside of the map always results in a return of `None` (to enable error handling)."
   ]
  },
  {
   "cell_type": "code",
   "execution_count": null,
   "metadata": {
    "collapsed": false
   },
   "outputs": [],
   "source": [
    "print K.at(0,np.pi)"
   ]
  },
  {
   "cell_type": "markdown",
   "metadata": {},
   "source": [
    "A `Kappamap` object can also plot itself using the `plot()` method."
   ]
  },
  {
   "cell_type": "code",
   "execution_count": null,
   "metadata": {
    "collapsed": false
   },
   "outputs": [],
   "source": [
    "K.plot()"
   ]
  },
  {
   "cell_type": "markdown",
   "metadata": {},
   "source": [
    "The size of the plot can be changed using the first kwarg `fig_size`, where the value is in inches. The default size is 10 in."
   ]
  },
  {
   "cell_type": "code",
   "execution_count": null,
   "metadata": {
    "collapsed": false
   },
   "outputs": [],
   "source": [
    "K.plot(fig_size=7)"
   ]
  },
  {
   "cell_type": "markdown",
   "metadata": {},
   "source": [
    "The plot method can also be used to graph a subplot. Simply add a list parameter of the form:\n",
    "\n",
    "    subplot = [max_RA, min_RA, min_DEC, max_DEC]\n",
    "\n",
    "The default coordinate system is `world`, with units of degrees."
   ]
  },
  {
   "cell_type": "markdown",
   "metadata": {},
   "source": [
    "For a much more zoomed in picture:"
   ]
  },
  {
   "cell_type": "code",
   "execution_count": null,
   "metadata": {
    "collapsed": false
   },
   "outputs": [],
   "source": [
    "K.plot(subplot=[2.0, 1.8, -2.0, -1.8])"
   ]
  },
  {
   "cell_type": "markdown",
   "metadata": {},
   "source": [
    "Alternatively, the subplot bounds can be passed with `physical` (degrees relative to the field center) or `image` coordinates (pixels) using the kwarg `coords`."
   ]
  },
  {
   "cell_type": "code",
   "execution_count": null,
   "metadata": {
    "collapsed": false
   },
   "outputs": [],
   "source": [
    "K.plot(10, [-0.01, 0.01, -0.01, 0.01], coords='physical')"
   ]
  },
  {
   "cell_type": "markdown",
   "metadata": {},
   "source": [
    "Note that the plot axes are always labeled using world coordinates.\n",
    "\n",
    "Finally, while the original map itself is square (4096 x 4096 pixels) the subimage does not need to be square."
   ]
  },
  {
   "cell_type": "code",
   "execution_count": null,
   "metadata": {
    "collapsed": false
   },
   "outputs": [],
   "source": [
    "K.plot(subplot=[2.0, 1.0, -2.0, -1.25])"
   ]
  },
  {
   "cell_type": "markdown",
   "metadata": {
    "collapsed": true
   },
   "source": [
    "## Shear maps\n",
    "We can also create a `Shearmap` object. Like `Kappamap`, the `Shearmap` class is a subclass of `WLMap` but requires two file inputs; one file for each component of the complex shear. The files $\\textit{must}$ be passed in a list (unlike `Kappamap` files, which are automatically converted) and must be in order (first the .gamma1 file, then the .gamma2 file). As before, the optional second argument is set to `FITS = False` as the file has yet to be converted to FITS format."
   ]
  },
  {
   "cell_type": "code",
   "execution_count": null,
   "metadata": {
    "collapsed": false
   },
   "outputs": [],
   "source": [
    "S = pangloss.Shearmap([pangloss.GAMMA_1_FILE, pangloss.GAMMA_2_FILE], FITS=False)"
   ]
  },
  {
   "cell_type": "markdown",
   "metadata": {},
   "source": [
    "A `Shearmap` object is currently two separate maps: gamma1 and gamma2. Each map attribute is now stored as a list, with the first and second entry corresponding to gamma1 and gamma2. For example, "
   ]
  },
  {
   "cell_type": "code",
   "execution_count": null,
   "metadata": {
    "collapsed": false
   },
   "outputs": [],
   "source": [
    "print S.values[0] # The shearmap values for the gamma1 map"
   ]
  },
  {
   "cell_type": "code",
   "execution_count": null,
   "metadata": {
    "collapsed": false
   },
   "outputs": [],
   "source": [
    "S.values[1] # The shearmap values for the gamma2 map"
   ]
  },
  {
   "cell_type": "markdown",
   "metadata": {},
   "source": [
    "If the files have .gamma1 and .gamma2 extensions, the attributes are set automatically in `WLMap`. A few of the important attributes set for the maps are:"
   ]
  },
  {
   "cell_type": "markdown",
   "metadata": {},
   "source": [
    "Field Size (self.field): 4 deg x 4 deg  \n",
    "\n",
    "Number of Pixels (self.NX*self.NX): 4096 x 4096\n",
    "\n",
    "Pixel-scale (self.PIXSCALE): 4 deg / 4096 = 0.000977 deg/pix\n",
    "\n",
    "Output (self.output): ['data/GGL_los_8_0_0_N_4096_ang_4_rays_to_plane_37_f.gamma1.fits',\n",
    "'data/GGL_los_8_0_0_N_4096_ang_4_rays_to_plane_37_f.gamma1.fits']"
   ]
  },
  {
   "cell_type": "markdown",
   "metadata": {},
   "source": [
    "The `at()` method works similarly for a `Shearmap`, but a third argument now specifies which map (gamma1 or gamma2) the method will extract from."
   ]
  },
  {
   "cell_type": "code",
   "execution_count": null,
   "metadata": {
    "collapsed": false
   },
   "outputs": [],
   "source": [
    "print S.at(0, 0, 0) # gamma1 value at (0,0)"
   ]
  },
  {
   "cell_type": "code",
   "execution_count": null,
   "metadata": {
    "collapsed": false
   },
   "outputs": [],
   "source": [
    "print S.at(0, 0, 1) # gamma2 value at (0,0)"
   ]
  },
  {
   "cell_type": "markdown",
   "metadata": {},
   "source": [
    "Note that if no third argument is passed, the method returns `None` (to avoid confusion)."
   ]
  },
  {
   "cell_type": "code",
   "execution_count": null,
   "metadata": {
    "collapsed": false
   },
   "outputs": [],
   "source": [
    "print S.at(0, 0)"
   ]
  },
  {
   "cell_type": "markdown",
   "metadata": {},
   "source": [
    "The `plot()` method for a `Shearmap` is quite different. At each position on a 40x40 grid, a \"shearstick\" is plotted, with length proportional to the magnitude of the shear, $\\vert\\gamma\\vert = \\sqrt{\\gamma_1^2 + \\gamma_2^2}$, and oriented so that it lies at an angle $\\phi$ counter-clockwise from the horizontal (RA) axis. (The complex shear $\\gamma = \\gamma_1 + i \\gamma_2 = \\vert\\gamma\\vert \\left( \\cos{2\\phi} + i \\sin{2\\phi} \\right)$.) "
   ]
  },
  {
   "cell_type": "code",
   "execution_count": null,
   "metadata": {
    "collapsed": false
   },
   "outputs": [],
   "source": [
    "S.plot()"
   ]
  },
  {
   "cell_type": "markdown",
   "metadata": {},
   "source": [
    "Resizing the image is the same as with `Kappamap`, simply pass one argument with the desired figure size in inches."
   ]
  },
  {
   "cell_type": "code",
   "execution_count": null,
   "metadata": {
    "collapsed": false
   },
   "outputs": [],
   "source": [
    "S.plot(fig_size=6)"
   ]
  },
  {
   "cell_type": "markdown",
   "metadata": {},
   "source": [
    "Subplots also work with `Shearmaps`. Note that the shear stick sampling for the subplot is adjusted so that the shear stick density remains the same regardless of size (40 sticks per axis)."
   ]
  },
  {
   "cell_type": "code",
   "execution_count": null,
   "metadata": {
    "collapsed": false
   },
   "outputs": [],
   "source": [
    "S.plot(subplot=[0.0, -1.0 , 0.0, 1.0])"
   ]
  },
  {
   "cell_type": "markdown",
   "metadata": {},
   "source": [
    "Shearmaps also have the same coordinate options as Kappamaps."
   ]
  },
  {
   "cell_type": "code",
   "execution_count": null,
   "metadata": {
    "collapsed": false
   },
   "outputs": [],
   "source": [
    "S.plot(subplot=[0, 1000, 0, 1000], coords='pixel')"
   ]
  },
  {
   "cell_type": "markdown",
   "metadata": {},
   "source": [
    "When the subplot is not square, the sampling of shear sticks is held constant rather than the number of sticks so that the image is not distorted."
   ]
  },
  {
   "cell_type": "code",
   "execution_count": null,
   "metadata": {
    "collapsed": false
   },
   "outputs": [],
   "source": [
    "S.plot(subplot=[0, 3000, 0, 2000], coords='pixel')"
   ]
  },
  {
   "cell_type": "markdown",
   "metadata": {},
   "source": [
    "However, the size of the sticks still seems dependent on the size of the x-axis. This makes subplots with a larger y-axis harder to view as seen below. (We need to look further into `numpy.quiver()` to determine how to resolve this.)"
   ]
  },
  {
   "cell_type": "code",
   "execution_count": null,
   "metadata": {
    "collapsed": false
   },
   "outputs": [],
   "source": [
    "S.plot(fig_size=10, subplot=[0, 2000, 0, 3000], coords='pixel')"
   ]
  },
  {
   "cell_type": "markdown",
   "metadata": {},
   "source": [
    "## Overlaying shear and convergence"
   ]
  },
  {
   "cell_type": "markdown",
   "metadata": {},
   "source": [
    "The plotting methods simply use the current axes, allowing simple overlays to be made:   "
   ]
  },
  {
   "cell_type": "code",
   "execution_count": null,
   "metadata": {
    "collapsed": false
   },
   "outputs": [],
   "source": [
    "K.plot(fig_size=15, subplot=[-0.031, -0.029, -0.0345, -0.033], coords='physical')\n",
    "S.plot(fig_size=15, subplot=[-0.031, -0.029, -0.0345, -0.033], coords='physical')"
   ]
  },
  {
   "cell_type": "code",
   "execution_count": null,
   "metadata": {
    "collapsed": false
   },
   "outputs": [],
   "source": [
    "K.plot(fig_size=15, subplot=[-0.0075, -0.005, -0.004, -0.0015], coords='physical')\n",
    "S.plot(fig_size=15, subplot=[-0.0075, -0.005, -0.004, -0.0015], coords='physical')"
   ]
  },
  {
   "cell_type": "markdown",
   "metadata": {
    "collapsed": true
   },
   "source": [
    "If different subplot regions are passed, the `Kappamap` subplot is viewed and only the shear sticks in the overlap area are plotted."
   ]
  },
  {
   "cell_type": "code",
   "execution_count": null,
   "metadata": {
    "collapsed": true
   },
   "outputs": [],
   "source": [
    "K.plot(subplot=[1.65, 1.5, -1.65, -1.5])\n",
    "S.plot(subplot=[1.65, 1.5, -1.65, -1.55])"
   ]
  }
 ],
 "metadata": {
  "kernelspec": {
   "display_name": "Python 2",
   "language": "python",
   "name": "python2"
  },
  "language_info": {
   "codemirror_mode": {
    "name": "ipython",
    "version": 2
   },
   "file_extension": ".py",
   "mimetype": "text/x-python",
   "name": "python",
   "nbconvert_exporter": "python",
   "pygments_lexer": "ipython2",
   "version": "2.7.12"
  }
 },
 "nbformat": 4,
 "nbformat_minor": 0
}
