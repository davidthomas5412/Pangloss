{
 "cells": [
  {
   "cell_type": "markdown",
   "metadata": {},
   "source": [
    "# Pangloss Demo Notebooks\n",
    "\n",
    "Welcome to the Pangloss demonstration area! Below you should be able to find a notebook that helps you get started doing what you need to do - if you can't see what you are looking for, please [send us an issue](https://github.com/drphilmarshall/Pangloss/issues).\n",
    "\n",
    "### Preliminaries\n",
    "\n",
    "After installing everything in the `requirements.txt` file and running `python setup.py install`, you'll need to fetch the test data, like this:"
   ]
  },
  {
   "cell_type": "code",
   "execution_count": null,
   "metadata": {
    "collapsed": false
   },
   "outputs": [],
   "source": [
    "import pangloss\n",
    "pangloss.fetch()"
   ]
  },
  {
   "cell_type": "markdown",
   "metadata": {},
   "source": [
    "These data files are stored in the package directory, and are best accessed via the `pangloss.demo_data_files` and `pangloss.calib_data_files` dictionaries:"
   ]
  },
  {
   "cell_type": "code",
   "execution_count": null,
   "metadata": {
    "collapsed": false
   },
   "outputs": [],
   "source": [
    "print pangloss.demo_data_files"
   ]
  },
  {
   "cell_type": "code",
   "execution_count": null,
   "metadata": {
    "collapsed": false
   },
   "outputs": [],
   "source": [
    "print pangloss.calib_data_files"
   ]
  },
  {
   "cell_type": "markdown",
   "metadata": {},
   "source": [
    "## Basic Weak Lensing Map and Galaxy/Halo Catalog Visualization\n",
    "\n",
    "* [WLMapsDemo.ipynb](WLMapsDemo.ipynb): Plot convergence map, shear map and both overlayed.\n",
    "\n",
    "* [ForegroundGalaxyOverlay.ipynb](ForegroundGalaxyOverlay.ipynb): Plot foreground galaxies on a grayscale convergence map."
   ]
  },
  {
   "cell_type": "markdown",
   "metadata": {},
   "source": [
    "## Predicting Weak Lensing Effects\n",
    "\n",
    "* [LensByHalos.ipynb](LensByHalos.ipynb): Predict the shear of background catalogue from mock foreground catalogue and compare it with ray tracing results.\n",
    "\n",
    "* [ShearPrediction.ipynb](ShearPrediction.ipynb): Predict the shear of background catalogue from mock foreground catalogue and compare it with ray tracing results."
   ]
  },
  {
   "cell_type": "markdown",
   "metadata": {},
   "source": [
    "## Inference\n",
    "\n",
    "* [SimpleMonteCarlo.ipynb](SimpleMonteCarlo.ipynb): Evaluate the weak lensing likelihood given a set of foreground halos in a small patch of sky."
   ]
  }
 ],
 "metadata": {
  "kernelspec": {
   "display_name": "Python 2",
   "language": "python",
   "name": "python2"
  },
  "language_info": {
   "codemirror_mode": {
    "name": "ipython",
    "version": 2
   },
   "file_extension": ".py",
   "mimetype": "text/x-python",
   "name": "python",
   "nbconvert_exporter": "python",
   "pygments_lexer": "ipython2",
   "version": "2.7.12"
  }
 },
 "nbformat": 4,
 "nbformat_minor": 0
}
