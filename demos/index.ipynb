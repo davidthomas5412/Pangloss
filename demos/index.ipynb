{
 "cells": [
  {
   "cell_type": "markdown",
   "metadata": {},
   "source": [
    "# Pangloss Demo Notebooks\n",
    "\n",
    "Welcome to the Pangloss demonstration area! Below you should be able to find a notebook that helps you get started doing what you need to do - if you can't see what you are looking for, please [send us an issue](https://github.com/drphilmarshall/Pangloss/issues)."
   ]
  },
  {
   "cell_type": "markdown",
   "metadata": {},
   "source": [
    "## Basic Weak Lensing Map and Galaxy/Halo Catalog Visualization\n",
    "\n",
    "* [WLMapsDemo.ipynb](WLMapsDemo.ipynb): \n",
    "\n",
    "* [ForegroundGalaxyOverlay.ipynb](ForegroundGalaxyOverlay.ipynb): Plot foreground galaxies on a grayscale convergence map."
   ]
  },
  {
   "cell_type": "markdown",
   "metadata": {},
   "source": [
    "## Predicting Weak Lensing Effects\n",
    "\n",
    "* [LensByHalos.ipynb](LensByHalos.ipynb):\n",
    "\n",
    "* [ShearPrediction.ipynb](ShearPrediction.ipynb)"
   ]
  },
  {
   "cell_type": "markdown",
   "metadata": {},
   "source": [
    "## Weak Lensing Likelihood\n",
    "\n",
    "* ???: Evaluate the weak lensing likelihood given a set of foreground halos in a small patch of sky"
   ]
  },
  {
   "cell_type": "code",
   "execution_count": null,
   "metadata": {
    "collapsed": true
   },
   "outputs": [],
   "source": []
  }
 ],
 "metadata": {
  "kernelspec": {
   "display_name": "Python 2",
   "language": "python",
   "name": "python2"
  },
  "language_info": {
   "codemirror_mode": {
    "name": "ipython",
    "version": 2
   },
   "file_extension": ".py",
   "mimetype": "text/x-python",
   "name": "python",
   "nbconvert_exporter": "python",
   "pygments_lexer": "ipython2",
   "version": "2.7.12"
  }
 },
 "nbformat": 4,
 "nbformat_minor": 0
}
