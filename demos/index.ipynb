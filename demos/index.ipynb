{
 "cells": [
  {
   "cell_type": "markdown",
   "metadata": {},
   "source": [
    "# Pangloss Demo Notebooks\n",
    "\n",
    "Welcome to the Pangloss demonstration area! Below you should be able to find a notebook that helps you get started doing what you need to do - if you can't see what you are looking for, please [send us an issue](https://github.com/drphilmarshall/Pangloss/issues).\n",
    "\n",
    "### Before Getting Started\n",
    "In your terminal:\n",
    "\n",
    "* (in terminal) export PANGLOSS_DIR=[[Path to your Pangloss directory]]\n",
    "* (in terminal) mkdir PANGLOSS_DIR/data\n",
    "* download the following from http://www.slac.stanford.edu/~pjm/hilbert/ into your local PANGLOSS_DIR/data\n",
    "    * GGL_los_8_0_0_0_0_N_4096_ang_4_Guo_galaxies_on_plane_27_to_63.images.txt\n",
    "    * GGL_los_8_0_0_N_4096_ang_4_rays_to_plane_37_f.gamma_1\n",
    "    * GGL_los_8_0_0_N_4096_ang_4_rays_to_plane_37_f.gamma_2\n",
    "    * GGL_los_8_0_0_N_4096_ang_4_rays_to_plane_37_f.kappa"
   ]
  },
  {
   "cell_type": "markdown",
   "metadata": {},
   "source": [
    "## Basic Weak Lensing Map and Galaxy/Halo Catalog Visualization\n",
    "\n",
    "* [WLMapsDemo.ipynb](WLMapsDemo.ipynb): Plot convergence map, shear map and both overlayed.\n",
    "\n",
    "* [ForegroundGalaxyOverlay.ipynb](ForegroundGalaxyOverlay.ipynb): Plot foreground galaxies on a grayscale convergence map."
   ]
  },
  {
   "cell_type": "markdown",
   "metadata": {},
   "source": [
    "## Predicting Weak Lensing Effects\n",
    "\n",
    "* [LensByHalos.ipynb](LensByHalos.ipynb): Predict the shear of background catalogue from mock foreground catalogue and compare it with ray tracing results.\n",
    "\n",
    "* [ShearPrediction.ipynb](ShearPrediction.ipynb): Predict the shear of background catalogue from mock foreground catalogue and compare it with ray tracing results."
   ]
  },
  {
   "cell_type": "markdown",
   "metadata": {},
   "source": [
    "## Inference\n",
    "\n",
    "* [WeakLensingLikelihood.ipynb](WeakLensingLikelihood.ipynb): Evaluate the weak lensing likelihood given a set of foreground halos in a small patch of sky."
   ]
  }
 ],
 "metadata": {
  "kernelspec": {
   "display_name": "Python 2",
   "language": "python",
   "name": "python2"
  },
  "language_info": {
   "codemirror_mode": {
    "name": "ipython",
    "version": 2
   },
   "file_extension": ".py",
   "mimetype": "text/x-python",
   "name": "python",
   "nbconvert_exporter": "python",
   "pygments_lexer": "ipython2",
   "version": "2.7.12"
  }
 },
 "nbformat": 4,
 "nbformat_minor": 0
}
