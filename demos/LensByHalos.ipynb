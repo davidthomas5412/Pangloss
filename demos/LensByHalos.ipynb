{
 "cells": [
  {
   "cell_type": "markdown",
   "metadata": {},
   "source": [
    "# Lensing Background Galaxies by Foreground Halos"
   ]
  },
  {
   "cell_type": "markdown",
   "metadata": {},
   "source": [
    "#### Spencer Everett, SLAC 7/29/2015"
   ]
  },
  {
   "cell_type": "code",
   "execution_count": 1,
   "metadata": {
    "collapsed": false
   },
   "outputs": [],
   "source": [
    "%load_ext autoreload\n",
    "%autoreload 2"
   ]
  },
  {
   "cell_type": "code",
   "execution_count": 2,
   "metadata": {
    "collapsed": false
   },
   "outputs": [],
   "source": [
    "import numpy as np\n",
    "import scipy as sp\n",
    "import os,sys\n",
    "import astropy.io.fits as pyfits\n",
    "import matplotlib.pyplot as plt\n",
    "import cmath\n",
    "import cPickle as pickle\n",
    "from mpl_toolkits.axes_grid1.anchored_artists import AnchoredSizeBar\n",
    "%matplotlib inline"
   ]
  },
  {
   "cell_type": "code",
   "execution_count": 3,
   "metadata": {
    "collapsed": false
   },
   "outputs": [],
   "source": [
    "# Pangloss:\n",
    "PANGLOSS_DIR = os.path.expandvars(\"$PANGLOSS_DIR\")\n",
    "sys.path.append(PANGLOSS_DIR)\n",
    "import pangloss"
   ]
  },
  {
   "cell_type": "markdown",
   "metadata": {},
   "source": [
    "Import the convergence and shear maps:"
   ]
  },
  {
   "cell_type": "code",
   "execution_count": 4,
   "metadata": {
    "collapsed": true
   },
   "outputs": [],
   "source": [
    "K = pangloss.Kappamap(PANGLOSS_DIR+'/data/GGL_los_8_0_0_N_4096_ang_4_rays_to_plane_37_f.kappa',FITS=False)"
   ]
  },
  {
   "cell_type": "code",
   "execution_count": 5,
   "metadata": {
    "collapsed": true
   },
   "outputs": [],
   "source": [
    "S = pangloss.Shearmap([PANGLOSS_DIR+'/data/GGL_los_8_0_0_N_4096_ang_4_rays_to_plane_37_f.gamma_1',PANGLOSS_DIR+'/data/GGL_los_8_0_0_N_4096_ang_4_rays_to_plane_37_f.gamma_2'],FITS=False)"
   ]
  },
  {
   "cell_type": "markdown",
   "metadata": {},
   "source": [
    "Import the foreground galaxy catalog for the (0,0,0,0) field:"
   ]
  },
  {
   "cell_type": "code",
   "execution_count": 6,
   "metadata": {
    "collapsed": false
   },
   "outputs": [],
   "source": [
    "config = pangloss.Configuration(PANGLOSS_DIR+'/example/example.config')\n",
    "F = pangloss.ForegroundCatalog(PANGLOSS_DIR+'/data/GGL_los_8_0_0_0_0_N_4096_ang_4_Guo_galaxies_on_plane_27_to_63.images.txt',config)"
   ]
  },
  {
   "cell_type": "markdown",
   "metadata": {},
   "source": [
    "Generate a background galaxy catalog in the same field with 10 sources per square arcminute:"
   ]
  },
  {
   "cell_type": "code",
   "execution_count": 37,
   "metadata": {
    "collapsed": false
   },
   "outputs": [
    {
     "data": {
      "text/plain": [
       "180"
      ]
     },
     "execution_count": 37,
     "metadata": {},
     "output_type": "execute_result"
    }
   ],
   "source": [
    "B = pangloss.BackgroundCatalog(N=0.05,sigma_e=0.01,field=[0,0,0,0])\n",
    "B.lens_by_map(K,S)\n",
    "B.galaxy_count"
   ]
  },
  {
   "cell_type": "code",
   "execution_count": 38,
   "metadata": {
    "collapsed": false,
    "scrolled": true
   },
   "outputs": [],
   "source": [
    "B.drill_lightcones(F=F,write=True)"
   ]
  },
  {
   "cell_type": "code",
   "execution_count": 39,
   "metadata": {
    "collapsed": false
   },
   "outputs": [],
   "source": [
    "infile = open(PANGLOSS_DIR+'/data/lightcones/lc_0_0_0_0.txt','rb')\n",
    "lightcones = pickle.load(infile)\n",
    "infile.close()"
   ]
  },
  {
   "cell_type": "code",
   "execution_count": 40,
   "metadata": {
    "collapsed": false
   },
   "outputs": [
    {
     "name": "stdout",
     "output_type": "stream",
     "text": [
      "882.311111111\n",
      "119.947131358\n"
     ]
    }
   ],
   "source": [
    "galaxy_counts = [lightcones[i].galaxy_count for i in range(len(lightcones))]\n",
    "mean_galaxies = np.mean(galaxy_counts)\n",
    "std_galaxies = np.std(galaxy_counts)\n",
    "print mean_galaxies\n",
    "print std_galaxies"
   ]
  },
  {
   "cell_type": "code",
   "execution_count": 41,
   "metadata": {
    "collapsed": false,
    "scrolled": false
   },
   "outputs": [
    {
     "name": "stdout",
     "output_type": "stream",
     "text": [
      "0\n",
      "10\n",
      "20\n",
      "30\n",
      "40\n",
      "50\n",
      "60\n",
      "70\n",
      "80\n",
      "90\n",
      "100\n",
      "110\n",
      "120\n",
      "130\n",
      "140\n",
      "150\n",
      "160\n",
      "170\n",
      "average lightcone time:  0.733224468761\n",
      "std lightcone time:  0.0125791863269\n"
     ]
    }
   ],
   "source": [
    "B.lens_by_halos()"
   ]
  },
  {
   "cell_type": "code",
   "execution_count": 63,
   "metadata": {
    "collapsed": false
   },
   "outputs": [
    {
     "name": "stdout",
     "output_type": "stream",
     "text": [
      "k_diff mean:  3115.49044029 %\n",
      "k_diff std:  33415.6746649 %\n",
      "\n",
      "g_diff mean:  154.088147509 %\n",
      "g_diff std:  113.320049388 %\n",
      "\n",
      "mod_diff mean:  77.559190952 %\n",
      "mod_diff std:  167.23342321 %\n",
      "\n",
      "phi_diff mean:  393.747538459 %\n",
      "phi_diff std:  1644.95393419 %\n",
      "\n",
      "mean kappa:  -0.00950995304958\n",
      "mean kappa_halo:  0.037253925449\n",
      "\n",
      "mean g:  (-0.0019270723007-0.00388696335483j)\n",
      "mean g_halo:  (-0.000604683279805-0.00139370856602j)\n",
      "\n",
      "(0.0480056659493+0.0320987848245j)\n",
      "(0.110398446011-0.0158008528934j)\n"
     ]
    }
   ],
   "source": [
    "k_diff = abs((B.galaxies['kappa_halo']-B.galaxies['kappa'])/B.galaxies['kappa'])*100.0\n",
    "k_diff_mean = np.mean(k_diff)\n",
    "k_diff_std = np.std(k_diff)\n",
    "print 'k_diff mean: ',k_diff_mean,'%'\n",
    "print 'k_diff std: ',k_diff_std,'%'\n",
    "print\n",
    "\n",
    "g_diff = abs((B.galaxies['g_halo']-B.galaxies['g'])/B.galaxies['g'])*100.0\n",
    "g_diff_mean = np.mean(g_diff)\n",
    "g_diff_std = np.std(g_diff)\n",
    "print 'g_diff mean: ',g_diff_mean,'%'\n",
    "print 'g_diff std: ',g_diff_std,'%'\n",
    "print\n",
    "\n",
    "mod_diff = abs((B.galaxies['eMod_halo']-B.galaxies['eMod'])/B.galaxies['eMod'])*100.0\n",
    "mod_diff_mean = np.mean(mod_diff)\n",
    "mod_diff_std = np.std(mod_diff)\n",
    "print 'mod_diff mean: ',mod_diff_mean,'%'\n",
    "print 'mod_diff std: ',mod_diff_std,'%'\n",
    "print\n",
    "\n",
    "phi_diff = abs((B.galaxies['ePhi_halo']-B.galaxies['ePhi'])/B.galaxies['ePhi'])*100.0\n",
    "phi_diff_mean = np.mean(phi_diff)\n",
    "phi_diff_std = np.std(phi_diff)\n",
    "print 'phi_diff mean: ',phi_diff_mean,'%'\n",
    "print 'phi_diff std: ',phi_diff_std,'%'\n",
    "print\n",
    "\n",
    "print 'mean kappa: ',np.mean(B.galaxies['kappa'])\n",
    "print 'mean kappa_halo: ',np.mean(B.galaxies['kappa_halo'])\n",
    "print\n",
    "\n",
    "print 'mean g: ',np.mean(B.galaxies['g'])\n",
    "print 'mean g_halo: ',np.mean(B.galaxies['g_halo'])\n",
    "print\n",
    "\n",
    "print np.max(B.galaxies['g'])\n",
    "print np.max(B.galaxies['g_halo'])"
   ]
  },
  {
   "cell_type": "code",
   "execution_count": 71,
   "metadata": {
    "collapsed": false
   },
   "outputs": [
    {
     "data": {
      "image/png": "[encoded data removed]",
      "text/plain": [
       "<matplotlib.figure.Figure at 0x7f2ebb1f3a90>"
      ]
     },
     "metadata": {},
     "output_type": "display_data"
    }
   ],
   "source": [
    "B.plot(subplot=[1.6,1.3,-1.9,-1.6],lensed='all',graph='stick')"
   ]
  },
  {
   "cell_type": "code",
   "execution_count": null,
   "metadata": {
    "collapsed": true
   },
   "outputs": [],
   "source": []
  }
 ],
 "metadata": {
  "kernelspec": {
   "display_name": "Python 2",
   "language": "python",
   "name": "python2"
  }
 },
 "nbformat": 4,
 "nbformat_minor": 0
}
