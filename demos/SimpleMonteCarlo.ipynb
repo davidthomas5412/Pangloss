{
 "cells": [
  {
   "cell_type": "markdown",
   "metadata": {},
   "source": [
    "# Simple Monte Carlo Inference of Foreground Halo Masses\n",
    "\n",
    "##### David Thomas, SLAC 2016\n",
    "\n",
    "In this notebook we infer the halo masses a small number of individual halos in front of a tiny patch of background, weakly-lensed galaxies. First we explore the probabilistic graphical model (PGM) for this simple inference, and then we use Simple Monte Carlo sampling to characterize the halo mass posterior PDFs.\n",
    "\n",
    "### Requirements\n",
    "\n",
    "To run this notebook, you will need the `daft` package installed:\n",
    "```\n",
    "pip install daft\n",
    "```"
   ]
  },
  {
   "cell_type": "markdown",
   "metadata": {},
   "source": [
    "## The PGM\n",
    "For more an introduction to PGMS see Daphne Koller's [Probabilistic Graphical Models](http://pgm.stanford.edu/). Below is the PGM that we will explore in this notebook."
   ]
  },
  {
   "cell_type": "code",
   "execution_count": 1,
   "metadata": {
    "collapsed": false
   },
   "outputs": [
    {
     "data": {
      "text/plain": [
       "<matplotlib.axes._axes.Axes at 0x105e7b310>"
      ]
     },
     "execution_count": 1,
     "metadata": {},
     "output_type": "execute_result"
    },
    {
     "data": {
      "image/png": "[encoded data removed]",
      "text/plain": [
       "<matplotlib.figure.Figure at 0x105e65a50>"
      ]
     },
     "metadata": {},
     "output_type": "display_data"
    }
   ],
   "source": [
    "%load_ext autoreload\n",
    "%autoreload 2\n",
    "\n",
    "%matplotlib inline\n",
    "\n",
    "from matplotlib import rc\n",
    "rc(\"font\", family=\"serif\", size=14)\n",
    "rc(\"text\", usetex=True)\n",
    "\n",
    "import daft\n",
    "\n",
    "pgm = daft.PGM([7, 6], origin=[0, 0])\n",
    "\n",
    "#background nodes\n",
    "pgm.add_plate(daft.Plate([0.5, 3.0, 5, 2], label=r\"foreground galaxy $i$\",\n",
    "    shift=-0.1))\n",
    "pgm.add_node(daft.Node(\"theta\", r\"$\\theta$\", 3.5, 5.5, fixed=True))\n",
    "pgm.add_node(daft.Node(\"alpha\", r\"$\\alpha$\", 1.5, 5.5, fixed=True))\n",
    "pgm.add_node(daft.Node(\"halo_mass\", r\"$M_i$\", 3.5, 4, scale=2))\n",
    "pgm.add_node(daft.Node(\"background_z\", r\"$z_i$\", 2, 4, fixed=True))\n",
    "pgm.add_node(daft.Node(\"concentration\", r\"$c_i$\", 1.5, 3.5, fixed=True))\n",
    "pgm.add_node(daft.Node(\"background_x\", r\"$x_i$\", 1.0, 3.5, fixed=True))\n",
    "\n",
    "#foreground nodes\n",
    "pgm.add_plate(daft.Plate([0.5, 0.5, 5, 2], label=r\"background galaxy $j$\",\n",
    "    shift=-0.1))\n",
    "pgm.add_node(daft.Node(\"reduced_shear\", r\"$g_j$\", 2.0, 1.5, fixed=True))\n",
    "pgm.add_node(daft.Node(\"reduced_shear\", r\"$g_j$\", 2.0, 1.5, fixed=True))\n",
    "pgm.add_node(daft.Node(\"foreground_z\", r\"$z_j$\", 1.0, 1.5, fixed=True))\n",
    "pgm.add_node(daft.Node(\"foreground_x\", r\"$x_j$\", 1.0, 1.0, fixed=True))\n",
    "pgm.add_node(daft.Node(\"ellipticities\", r\"$\\epsilon_j^{obs}$\", 4.5, 1.5, observed=True, scale=2))\n",
    "\n",
    "#outer nodes\n",
    "pgm.add_node(daft.Node(\"sigma_obs\", r\"$\\sigma_{\\epsilon_j}^{obs}$\", 3.0, 2.0, fixed=True))\n",
    "pgm.add_node(daft.Node(\"sigma_int\", r\"$\\sigma_{\\epsilon}^{int}$\", 6.0, 1.5, fixed=True))\n",
    "\n",
    "#edges\n",
    "pgm.add_edge(\"foreground_z\", \"reduced_shear\")\n",
    "pgm.add_edge(\"foreground_x\", \"reduced_shear\")\n",
    "pgm.add_edge(\"reduced_shear\", \"ellipticities\")\n",
    "pgm.add_edge(\"sigma_obs\", \"ellipticities\")\n",
    "pgm.add_edge(\"sigma_int\", \"ellipticities\")\n",
    "pgm.add_edge(\"concentration\", \"reduced_shear\")\n",
    "pgm.add_edge(\"halo_mass\", \"concentration\")\n",
    "pgm.add_edge(\"background_z\", \"concentration\")\n",
    "pgm.add_edge(\"background_x\", \"reduced_shear\")\n",
    "pgm.add_edge(\"alpha\", \"concentration\")\n",
    "pgm.add_edge(\"theta\", \"halo_mass\")\n",
    "pgm.render()"
   ]
  },
  {
   "cell_type": "markdown",
   "metadata": {},
   "source": [
    "We have sets of foregrounds and backgrounds along with the variables\n",
    "\n",
    "- $\\alpha$:  parameters in the concentration function (which is a function of $z_i,M_i$)\n",
    "- $\\theta$: prior distribution of halo masses\n",
    "- $z_i$: foreground galaxy redshift\n",
    "- $x_i$: foreground galaxy angular coordinates\n",
    "- $z_j$: background galaxy redshift\n",
    "- $x_j$: background galaxy angular coordinates\n",
    "- $g_j$: reduced shear\n",
    "- $\\sigma_{\\epsilon_j}^{obs}$: noise from our ellipticity measurement process\n",
    "- $\\sigma_{\\epsilon}^{int}$: intrinsic variance in ellipticities\n",
    "- $\\epsilon_j^{obs}$: intrinsic variance in ellipticities"
   ]
  },
  {
   "cell_type": "markdown",
   "metadata": {},
   "source": [
    "## Inference\n",
    "\n",
    "We use the Simple Monte Carlo to generate many samples from the posterior PDF for $M$:\n",
    "```\n",
    "1. Draw prior samples\n",
    "2. Compute log likelihood\n",
    "3. Renormalize and exponentiate log likelihood values and assign to samples as importance weights\n",
    "4. Compute integral inferences as weighted sums over the samples\n",
    "```"
   ]
  },
  {
   "cell_type": "code",
   "execution_count": 2,
   "metadata": {
    "collapsed": false
   },
   "outputs": [
    {
     "name": "stdout",
     "output_type": "stream",
     "text": [
      "['/Users/pjm/work/stronglensing/H0/lightcones/Pangloss/calib/Millennium/catalog_example.txt']\n",
      "['/Users/pjm/work/stronglensing/H0/lightcones/Pangloss/calib/Millennium/GGL_los*.fits']\n"
     ]
    },
    {
     "ename": "IndexError",
     "evalue": "list index out of range",
     "output_type": "error",
     "traceback": [
      "\u001b[0;31m---------------------------------------------------------------------------\u001b[0m",
      "\u001b[0;31mIndexError\u001b[0m                                Traceback (most recent call last)",
      "\u001b[0;32m<ipython-input-2-baa19b9dbe5b>\u001b[0m in \u001b[0;36m<module>\u001b[0;34m()\u001b[0m\n\u001b[1;32m      9\u001b[0m \u001b[0;34m\u001b[0m\u001b[0m\n\u001b[1;32m     10\u001b[0m \u001b[0;31m# lens the background galaxies with the model halos - i.e., this notebook is a functional test!\u001b[0m\u001b[0;34m\u001b[0m\u001b[0;34m\u001b[0m\u001b[0m\n\u001b[0;32m---> 11\u001b[0;31m \u001b[0mB\u001b[0m\u001b[0;34m.\u001b[0m\u001b[0mlens_by_halos\u001b[0m\u001b[0;34m(\u001b[0m\u001b[0mrelevance_lim\u001b[0m\u001b[0;34m=\u001b[0m\u001b[0;36m0.00001\u001b[0m\u001b[0;34m,\u001b[0m \u001b[0mlookup_table\u001b[0m\u001b[0;34m=\u001b[0m\u001b[0mTrue\u001b[0m\u001b[0;34m,\u001b[0m \u001b[0msmooth_corr\u001b[0m\u001b[0;34m=\u001b[0m\u001b[0mTrue\u001b[0m\u001b[0;34m)\u001b[0m\u001b[0;34m\u001b[0m\u001b[0m\n\u001b[0m",
      "\u001b[0;32m/Users/pjm/work/stronglensing/LSST/DESC/Pangloss/pangloss/background.pyc\u001b[0m in \u001b[0;36mlens_by_halos\u001b[0;34m(self, save, methods, use_method, relevance_lim, lookup_table, smooth_corr, foreground_corr)\u001b[0m\n\u001b[1;32m    310\u001b[0m         \u001b[0;31m# Lightcones should already be drilled, but drill if not\u001b[0m\u001b[0;34m\u001b[0m\u001b[0;34m\u001b[0m\u001b[0m\n\u001b[1;32m    311\u001b[0m         \u001b[0;32mif\u001b[0m \u001b[0mself\u001b[0m\u001b[0;34m.\u001b[0m\u001b[0mlightcones\u001b[0m \u001b[0;32mis\u001b[0m \u001b[0mNone\u001b[0m\u001b[0;34m:\u001b[0m\u001b[0;34m\u001b[0m\u001b[0m\n\u001b[0;32m--> 312\u001b[0;31m             \u001b[0mself\u001b[0m\u001b[0;34m.\u001b[0m\u001b[0mdrill_lightcones\u001b[0m\u001b[0;34m(\u001b[0m\u001b[0;34m)\u001b[0m\u001b[0;34m\u001b[0m\u001b[0m\n\u001b[0m\u001b[1;32m    313\u001b[0m \u001b[0;34m\u001b[0m\u001b[0m\n\u001b[1;32m    314\u001b[0m         \u001b[0;31m# Create lensing lookup table\u001b[0m\u001b[0;34m\u001b[0m\u001b[0;34m\u001b[0m\u001b[0m\n",
      "\u001b[0;32m/Users/pjm/work/stronglensing/LSST/DESC/Pangloss/pangloss/background.pyc\u001b[0m in \u001b[0;36mdrill_lightcones\u001b[0;34m(self, radius, foreground, save, smooth_corr)\u001b[0m\n\u001b[1;32m    564\u001b[0m         \u001b[0;32mif\u001b[0m \u001b[0mforeground\u001b[0m \u001b[0;32mis\u001b[0m \u001b[0mNone\u001b[0m\u001b[0;34m:\u001b[0m\u001b[0;34m\u001b[0m\u001b[0m\n\u001b[1;32m    565\u001b[0m             \u001b[0;31m# Load in the corresponding foreground catalog\u001b[0m\u001b[0;34m\u001b[0m\u001b[0;34m\u001b[0m\u001b[0m\n\u001b[0;32m--> 566\u001b[0;31m             \u001b[0mconfig\u001b[0m \u001b[0;34m=\u001b[0m \u001b[0mpangloss\u001b[0m\u001b[0;34m.\u001b[0m\u001b[0mConfiguration\u001b[0m\u001b[0;34m(\u001b[0m\u001b[0mpangloss\u001b[0m\u001b[0;34m.\u001b[0m\u001b[0mcatalog_example\u001b[0m\u001b[0;34m)\u001b[0m\u001b[0;34m\u001b[0m\u001b[0m\n\u001b[0m\u001b[1;32m    567\u001b[0m             \u001b[0mforeground\u001b[0m \u001b[0;34m=\u001b[0m \u001b[0mpangloss\u001b[0m\u001b[0;34m.\u001b[0m\u001b[0mForegroundCatalog\u001b[0m\u001b[0;34m(\u001b[0m\u001b[0mpangloss\u001b[0m\u001b[0;34m.\u001b[0m\u001b[0mguo_file\u001b[0m\u001b[0;34m,\u001b[0m \u001b[0mconfig\u001b[0m\u001b[0;34m)\u001b[0m\u001b[0;34m\u001b[0m\u001b[0m\n\u001b[1;32m    568\u001b[0m \u001b[0;34m\u001b[0m\u001b[0m\n",
      "\u001b[0;32m/Users/pjm/work/stronglensing/LSST/DESC/Pangloss/pangloss/config.pyc\u001b[0m in \u001b[0;36m__init__\u001b[0;34m(self, configfile)\u001b[0m\n\u001b[1;32m     41\u001b[0m         \u001b[0mself\u001b[0m\u001b[0;34m.\u001b[0m\u001b[0mfile\u001b[0m \u001b[0;34m=\u001b[0m \u001b[0mconfigfile\u001b[0m\u001b[0;34m\u001b[0m\u001b[0m\n\u001b[1;32m     42\u001b[0m         \u001b[0mself\u001b[0m\u001b[0;34m.\u001b[0m\u001b[0mparameters\u001b[0m \u001b[0;34m=\u001b[0m \u001b[0;34m{\u001b[0m\u001b[0;34m}\u001b[0m\u001b[0;34m\u001b[0m\u001b[0m\n\u001b[0;32m---> 43\u001b[0;31m         \u001b[0mself\u001b[0m\u001b[0;34m.\u001b[0m\u001b[0mread\u001b[0m\u001b[0;34m(\u001b[0m\u001b[0;34m)\u001b[0m\u001b[0;34m\u001b[0m\u001b[0m\n\u001b[0m\u001b[1;32m     44\u001b[0m         \u001b[0mself\u001b[0m\u001b[0;34m.\u001b[0m\u001b[0mconvert\u001b[0m\u001b[0;34m(\u001b[0m\u001b[0;34m)\u001b[0m\u001b[0;34m\u001b[0m\u001b[0m\n\u001b[1;32m     45\u001b[0m         \u001b[0mself\u001b[0m\u001b[0;34m.\u001b[0m\u001b[0mprepare\u001b[0m\u001b[0;34m(\u001b[0m\u001b[0;34m)\u001b[0m\u001b[0;34m\u001b[0m\u001b[0m\n",
      "\u001b[0;32m/Users/pjm/work/stronglensing/LSST/DESC/Pangloss/pangloss/config.pyc\u001b[0m in \u001b[0;36mread\u001b[0;34m(self)\u001b[0m\n\u001b[1;32m     59\u001b[0m             \u001b[0mline\u001b[0m \u001b[0;34m=\u001b[0m \u001b[0;34m''\u001b[0m\u001b[0;34m.\u001b[0m\u001b[0mjoin\u001b[0m\u001b[0;34m(\u001b[0m\u001b[0mline\u001b[0m\u001b[0;34m.\u001b[0m\u001b[0msplit\u001b[0m\u001b[0;34m(\u001b[0m\u001b[0;34m)\u001b[0m\u001b[0;34m)\u001b[0m\u001b[0;34m\u001b[0m\u001b[0m\n\u001b[1;32m     60\u001b[0m             \u001b[0mline\u001b[0m \u001b[0;34m=\u001b[0m \u001b[0mline\u001b[0m\u001b[0;34m.\u001b[0m\u001b[0msplit\u001b[0m\u001b[0;34m(\u001b[0m\u001b[0;34m':'\u001b[0m\u001b[0;34m)\u001b[0m\u001b[0;34m\u001b[0m\u001b[0m\n\u001b[0;32m---> 61\u001b[0;31m             \u001b[0mName\u001b[0m\u001b[0;34m,\u001b[0m \u001b[0mValue\u001b[0m \u001b[0;34m=\u001b[0m \u001b[0mline\u001b[0m\u001b[0;34m[\u001b[0m\u001b[0;36m0\u001b[0m\u001b[0;34m]\u001b[0m\u001b[0;34m,\u001b[0m \u001b[0mline\u001b[0m\u001b[0;34m[\u001b[0m\u001b[0;36m1\u001b[0m\u001b[0;34m]\u001b[0m\u001b[0;34m\u001b[0m\u001b[0m\n\u001b[0m\u001b[1;32m     62\u001b[0m             \u001b[0mself\u001b[0m\u001b[0;34m.\u001b[0m\u001b[0mparameters\u001b[0m\u001b[0;34m[\u001b[0m\u001b[0mName\u001b[0m\u001b[0;34m]\u001b[0m \u001b[0;34m=\u001b[0m \u001b[0mValue\u001b[0m\u001b[0;34m\u001b[0m\u001b[0m\n\u001b[1;32m     63\u001b[0m         \u001b[0mthisfile\u001b[0m\u001b[0;34m.\u001b[0m\u001b[0mclose\u001b[0m\u001b[0;34m(\u001b[0m\u001b[0;34m)\u001b[0m\u001b[0;34m\u001b[0m\u001b[0m\n",
      "\u001b[0;31mIndexError\u001b[0m: list index out of range"
     ]
    }
   ],
   "source": [
    "from pangloss import data, BackgroundCatalog, Configuration, ForegroundCatalog, \\\n",
    "    TrueHaloMassDistribution\n",
    "from pandas import DataFrame\n",
    "\n",
    "# initialize background and foreground\n",
    "B = BackgroundCatalog(N=10.0, domain=[1.43, 1.4, -1.43, -1.4], field=[0, 0, 0, 0])\n",
    "config = Configuration.example()\n",
    "F = ForegroundCatalog(data.guo_file, config)\n",
    "F.set_mass_prior(TrueHaloMassDistribution()) # This needs explaining...\n",
    "\n",
    "# lens the background galaxies with the model halos - i.e., this notebook is a functional test!\n",
    "B.lens_by_halos(relevance_lim=0.00001, lookup_table=True, smooth_corr=True)"
   ]
  },
  {
   "cell_type": "code",
   "execution_count": null,
   "metadata": {
    "collapsed": false
   },
   "outputs": [],
   "source": [
    "# run monte carlo samples\n",
    "output = DataFrame()\n",
    "for _ in range(5):\n",
    "    F.draw_halo_masses()\n",
    "    B.drill_lightcones(radius=1.0, foreground=F, save=False, smooth_corr=True)\n",
    "    B.lens_by_halos(relevance_lim=0.00001, lookup_table=True, smooth_corr=True)\n",
    "    halos = B.get_sampled_halo_masses_in_lightcones()\n",
    "    halos['log-likelihood'] = B.calculate_log_likelihood()\n",
    "    output = output.append(halos, ignore_index=True)\n",
    "\n",
    "# galaxies that were filtered due to relevance should be assigned mass of 0\n",
    "output = output.fillna(0)\n",
    "output"
   ]
  },
  {
   "cell_type": "code",
   "execution_count": null,
   "metadata": {
    "collapsed": false
   },
   "outputs": [],
   "source": [
    "B.get_true_halo_masses_in_lightcones()"
   ]
  },
  {
   "cell_type": "markdown",
   "metadata": {},
   "source": [
    "## Performance Benchmark\n",
    "\n",
    "coming soon ..."
   ]
  }
 ],
 "metadata": {
  "kernelspec": {
   "display_name": "Python 2",
   "language": "python",
   "name": "python2"
  },
  "language_info": {
   "codemirror_mode": {
    "name": "ipython",
    "version": 2
   },
   "file_extension": ".py",
   "mimetype": "text/x-python",
   "name": "python",
   "nbconvert_exporter": "python",
   "pygments_lexer": "ipython2",
   "version": "2.7.12"
  }
 },
 "nbformat": 4,
 "nbformat_minor": 0
}
